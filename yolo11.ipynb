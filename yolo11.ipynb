{
 "cells": [
  {
   "cell_type": "code",
   "execution_count": null,
   "id": "5eeb18b2",
   "metadata": {
    "vscode": {
     "languageId": "plaintext"
    }
   },
   "outputs": [],
   "source": [
    "from ultralytics import YOLO\n",
    "import cv2\n",
    "\n",
    "# YOLO11 포즈 모델 로드\n",
    "model = YOLO('yolo11n-pose.pt')\n",
    "\n",
    "# 웹캠 연결\n",
    "cap = cv2.VideoCapture(0)\n",
    "\n",
    "while True:\n",
    "    ret, frame = cap.read()\n",
    "    if not ret:\n",
    "        break\n",
    "    \n",
    "    # 포즈 추정 실행\n",
    "    results = model(frame)\n",
    "    \n",
    "    # 결과를 프레임에 그리기\n",
    "    annotated_frame = results[0].plot()\n",
    "    \n",
    "    # 화면에 출력\n",
    "    cv2.imshow('YOLO11 Pose', annotated_frame)\n",
    "    \n",
    "    if cv2.waitKey(1) & 0xFF == ord('q'):\n",
    "        break\n",
    "\n",
    "cap.release()\n",
    "cv2.destroyAllWindows()"
   ]
  }
 ],
 "metadata": {
  "language_info": {
   "name": "python"
  }
 },
 "nbformat": 4,
 "nbformat_minor": 5
}
